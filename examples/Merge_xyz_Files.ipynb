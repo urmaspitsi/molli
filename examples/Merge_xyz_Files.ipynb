{
 "cells": [
  {
   "cell_type": "code",
   "execution_count": 1,
   "id": "3de50415-a299-4a8a-b5ea-be40d9749f46",
   "metadata": {},
   "outputs": [],
   "source": [
    "import os\n",
    "from pathlib import Path\n",
    "from typing import Any, Dict, List, Tuple, Union\n",
    "#from tqdm.notebook import tqdm\n",
    "from tqdm import tqdm\n",
    "from ase import Atoms"
   ]
  },
  {
   "cell_type": "code",
   "execution_count": 2,
   "id": "7ec85d81-fd78-48ea-93d9-12ffcc30f447",
   "metadata": {},
   "outputs": [],
   "source": [
    "os.chdir(os.path.split(os.getcwd())[0]) # set working directory to Molli top level\n",
    "\n",
    "import ase_utils as au\n",
    "import gaussian_utils as GU\n",
    "import metrics as ms\n",
    "import molecule_validator as mv\n",
    "import utils as ut"
   ]
  },
  {
   "cell_type": "code",
   "execution_count": 3,
   "id": "f15b6167-b3c8-471c-8ba0-df489e14df7f",
   "metadata": {},
   "outputs": [],
   "source": [
    "parent_dir = Path(\"C:/tmp/gaussian/input\")\n",
    "conformers_file_names = [\n",
    "    \"mol24_ex0a_gfn2_crestconfs.xyz\",\n",
    "    \"mol24_ex0b_gfn2_crestconfs.xyz\",\n",
    "    \"mol24_ex0ff_crestconfs.xyz\",\n",
    "    \"mol24_ex15_gfnff_crest_conformers.xyz\",\n",
    "    \"mol24_ex16_gfn2_crest_conformers.xyz\",\n",
    "    \"mol24_ex19_gfn2_crestconfs_from_ex16_crest5.xyz\",\n",
    "    \"mol24_ex21_gfnff_crestconfs_from_ex16_crest5.xyz\",\n",
    "    \"mol24_ex23_gfn2_crestconfs_from_ex16_crest3.xyz\",\n",
    "]\n",
    "\n",
    "input_paths = [parent_dir.joinpath(fname) for fname in conformers_file_names]"
   ]
  },
  {
   "cell_type": "code",
   "execution_count": 4,
   "id": "e0baea55-0aaa-4294-b8da-564f599edc19",
   "metadata": {},
   "outputs": [
    {
     "data": {
      "text/plain": [
       "387"
      ]
     },
     "execution_count": 4,
     "metadata": {},
     "output_type": "execute_result"
    }
   ],
   "source": [
    "mols = au.create_ase_atoms_list_from_xyz_files(input_paths=input_paths)\n",
    "len(mols)\n"
   ]
  },
  {
   "cell_type": "code",
   "execution_count": 5,
   "id": "4408fbda-5b14-4cab-968f-06e10604249a",
   "metadata": {},
   "outputs": [
    {
     "data": {
      "text/plain": [
       "'C:\\\\tmp\\\\gaussian\\\\input\\\\all_crest_confs.xyz'"
      ]
     },
     "execution_count": 5,
     "metadata": {},
     "output_type": "execute_result"
    }
   ],
   "source": [
    "au.write_ase_atoms_to_xyz_file(\n",
    "    atoms_list=mols,\n",
    "    output_path=Path(\"C:/tmp/gaussian/input/all_crest_confs.xyz\")\n",
    "    )"
   ]
  },
  {
   "cell_type": "code",
   "execution_count": null,
   "id": "150d6ff4-c5ad-4fab-afe6-509f4d0737be",
   "metadata": {},
   "outputs": [],
   "source": []
  }
 ],
 "metadata": {
  "kernelspec": {
   "display_name": "Python 3 (ipykernel)",
   "language": "python",
   "name": "python3"
  },
  "language_info": {
   "codemirror_mode": {
    "name": "ipython",
    "version": 3
   },
   "file_extension": ".py",
   "mimetype": "text/x-python",
   "name": "python",
   "nbconvert_exporter": "python",
   "pygments_lexer": "ipython3",
   "version": "3.8.13"
  }
 },
 "nbformat": 4,
 "nbformat_minor": 5
}
