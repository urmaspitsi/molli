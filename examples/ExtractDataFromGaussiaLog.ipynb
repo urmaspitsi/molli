{
 "cells": [
  {
   "cell_type": "code",
   "execution_count": 1,
   "id": "02a3ffdf-25db-4aba-b19c-11acb5d9003b",
   "metadata": {},
   "outputs": [],
   "source": [
    "import os\n",
    "from pathlib import Path\n",
    "from typing import Any, Dict, List, Tuple, Union\n",
    "#from tqdm.notebook import tqdm\n",
    "from tqdm import tqdm\n"
   ]
  },
  {
   "cell_type": "code",
   "execution_count": 2,
   "id": "a4e8e6c5-8317-404e-bed0-962a8eea9669",
   "metadata": {},
   "outputs": [],
   "source": [
    "os.chdir(os.path.split(os.getcwd())[0]) # set working directory to Molli top level\n",
    "\n",
    "import ase_utils as au\n",
    "import gaussian_utils as GU\n",
    "import metrics as ms\n",
    "import utils as ut\n"
   ]
  },
  {
   "cell_type": "markdown",
   "id": "137c6cad-ae77-4f0f-9bc3-cad2ab9c525a",
   "metadata": {
    "jp-MarkdownHeadingCollapsed": true,
    "tags": []
   },
   "source": [
    "### Case 1: generate results in the directory of the experiment (sub folder: molli_results)"
   ]
  },
  {
   "cell_type": "code",
   "execution_count": 3,
   "id": "0e69257d-987c-4542-91e8-f1fc4a00ca61",
   "metadata": {},
   "outputs": [],
   "source": [
    "def process_inside_experiments_dirs():\n",
    "    print(\"Processing gaussian log files...\")\n",
    "    progress_bar = tqdm(experiment_dirs)\n",
    "\n",
    "    #for experiment_dir in tqdm(experimentr_dirs, desc=\"Processing gaussian log files\"):\n",
    "    for experiment_dir in progress_bar:\n",
    "        progress_bar.set_description(experiment_dir.stem)\n",
    "        input_dir = experiment_dir.joinpath(gaussian_logs_folder)\n",
    "        experiment_name = experiment_dir.stem\n",
    "        gaussian_log_files = ut.get_file_paths_in_dir(input_dir, \".log\")\n",
    "        output_dir = Path(experiment_dir.joinpath(output_folder_in_experiment_dir))\n",
    "        aggregate_log_file_name = f\"{experiment_name}_log.txt\"\n",
    "        aggregate_xyz_file = output_dir.joinpath(f\"{experiment_name}_confs.xyz\")\n",
    "\n",
    "        GU.process_many_log_files(\n",
    "                                input_paths=gaussian_log_files,\n",
    "                                output_dir=output_dir,\n",
    "                                aggregate_log_file_name=aggregate_log_file_name,\n",
    "        #                          extract_summary_step_nr=10,\n",
    "        #                          do_only_summary=True,\n",
    "                                write_last_opt_steps_file_path=aggregate_xyz_file\n",
    "                                )\n"
   ]
  },
  {
   "cell_type": "code",
   "execution_count": 4,
   "id": "4ceb9177-4b09-4eeb-91c0-23b2457a0b6e",
   "metadata": {},
   "outputs": [],
   "source": [
    "parent_dir = Path(\"C:/tmp/gaussian/optimize\")\n",
    "gaussian_logs_folder = \"gaussian_results\"\n",
    "output_folder_in_experiment_dir = \"molli_results\"\n",
    "experiment_dirs = [x for x in parent_dir.iterdir() if x.is_dir()]\n"
   ]
  },
  {
   "cell_type": "code",
   "execution_count": 5,
   "id": "6b659f95-ace2-4091-b990-407b4502724c",
   "metadata": {},
   "outputs": [
    {
     "data": {
      "text/plain": [
       "[WindowsPath('C:/tmp/gaussian/optimize/crest_ex0a_BP86_Def2SVPP_SVPFit'),\n",
       " WindowsPath('C:/tmp/gaussian/optimize/crest_ex0a_BP86_STO3G'),\n",
       " WindowsPath('C:/tmp/gaussian/optimize/crest_ex0a_PBE1PBE_Def2SVPP_SVPFit'),\n",
       " WindowsPath('C:/tmp/gaussian/optimize/crest_ex0a_PBE1PBE_STO3G'),\n",
       " WindowsPath('C:/tmp/gaussian/optimize/crest_ex0a_s1_BP86_Def2SVPP_SVPFit'),\n",
       " WindowsPath('C:/tmp/gaussian/optimize/crest_ex0b_BP86_Def2SVPP_SVPFit'),\n",
       " WindowsPath('C:/tmp/gaussian/optimize/crest_ex0b_BP86_STO3G'),\n",
       " WindowsPath('C:/tmp/gaussian/optimize/crest_ex0ff_BP86_Def2SVPP_SVPFit'),\n",
       " WindowsPath('C:/tmp/gaussian/optimize/crest_ex15_BP86_Def2SVPP_SVPFit'),\n",
       " WindowsPath('C:/tmp/gaussian/optimize/crest_ex15_BP86_STO3G'),\n",
       " WindowsPath('C:/tmp/gaussian/optimize/crest_ex16_BP86_Def2SVPP_SVPFit'),\n",
       " WindowsPath('C:/tmp/gaussian/optimize/crest_ex16_crest3_BP86_Def2SVPP_SVPFit'),\n",
       " WindowsPath('C:/tmp/gaussian/optimize/crest_ex16_crest3_PBE1PBE_Def2SVPP_SVPFit'),\n",
       " WindowsPath('C:/tmp/gaussian/optimize/crest_ex16_crest5_BP86_Def2SVPP_SVPFit'),\n",
       " WindowsPath('C:/tmp/gaussian/optimize/crest_ex16_crest5_PBE1PBE_Def2SVPP_SVPFit'),\n",
       " WindowsPath('C:/tmp/gaussian/optimize/crest_ex19_BP86_Def2SVPP_SVPFit'),\n",
       " WindowsPath('C:/tmp/gaussian/optimize/crest_ex19_BP86_Def2SVPP_SVPFit_5steps'),\n",
       " WindowsPath('C:/tmp/gaussian/optimize/crest_ex19_BP86_STO3G'),\n",
       " WindowsPath('C:/tmp/gaussian/optimize/crest_ex19_crest23_BP86_Def2SVPP_SVPFit'),\n",
       " WindowsPath('C:/tmp/gaussian/optimize/crest_ex19_crest23_PBE1PBE_Def2SVPP_SVPFit'),\n",
       " WindowsPath('C:/tmp/gaussian/optimize/crest_ex19_s1_PBE1PBE_Def2SVPP_SVPFit'),\n",
       " WindowsPath('C:/tmp/gaussian/optimize/crest_ex21_BP86_Def2SVPP_SVPFit'),\n",
       " WindowsPath('C:/tmp/gaussian/optimize/crest_ex21_BP86_STO3G'),\n",
       " WindowsPath('C:/tmp/gaussian/optimize/crest_ex23_BP86_Def2SVPP_SVPFit'),\n",
       " WindowsPath('C:/tmp/gaussian/optimize/crest_ex23_BP86_STO3G'),\n",
       " WindowsPath('C:/tmp/gaussian/optimize/crest_ex8_gfn2_crest1_BP86_STO3G'),\n",
       " WindowsPath('C:/tmp/gaussian/optimize/crest_ex8_gfn2_crest1_PBE1PBE_STO3G'),\n",
       " WindowsPath('C:/tmp/gaussian/optimize/crest_s1_b3p86_def2svpp_svpfit'),\n",
       " WindowsPath('C:/tmp/gaussian/optimize/crest_s1_tpssh_gd3_def2svpp_svpfit'),\n",
       " WindowsPath('C:/tmp/gaussian/optimize/crest_s1_wb97xd_def2svpp_svpfit'),\n",
       " WindowsPath('C:/tmp/gaussian/optimize/crest_s2_bp86_def2svpp_svpfit'),\n",
       " WindowsPath('C:/tmp/gaussian/optimize/crest_s3_bp86_def2svpp_svpfit'),\n",
       " WindowsPath('C:/tmp/gaussian/optimize/original_BP86_Def2SVPP_SVPFit'),\n",
       " WindowsPath('C:/tmp/gaussian/optimize/original_BP86_STO3G'),\n",
       " WindowsPath('C:/tmp/gaussian/optimize/original_PBE1PBE_Def2SVPP_SVPFit'),\n",
       " WindowsPath('C:/tmp/gaussian/optimize/original_PBE1PBE_STO3G'),\n",
       " WindowsPath('C:/tmp/gaussian/optimize/pbe1pbe_cc_pvtz_tzvpfit')]"
      ]
     },
     "execution_count": 5,
     "metadata": {},
     "output_type": "execute_result"
    }
   ],
   "source": [
    "experiment_dirs"
   ]
  },
  {
   "cell_type": "code",
   "execution_count": 6,
   "id": "b143a9c7-d8a6-4326-a35a-e82c52ecf67c",
   "metadata": {},
   "outputs": [
    {
     "name": "stdout",
     "output_type": "stream",
     "text": [
      "Processing gaussian log files...\n"
     ]
    },
    {
     "name": "stderr",
     "output_type": "stream",
     "text": [
      "pbe1pbe_cc_pvtz_tzvpfit: 100%|█████████████████| 37/37 [00:47<00:00,  1.28s/it]"
     ]
    },
    {
     "name": "stdout",
     "output_type": "stream",
     "text": [
      "Wall time: 47.4 s\n"
     ]
    },
    {
     "name": "stderr",
     "output_type": "stream",
     "text": [
      "\n"
     ]
    }
   ],
   "source": [
    "%time process_inside_experiments_dirs()"
   ]
  },
  {
   "cell_type": "code",
   "execution_count": null,
   "id": "03c7839c-c78c-4e3e-a420-4620448590d1",
   "metadata": {},
   "outputs": [],
   "source": []
  },
  {
   "cell_type": "markdown",
   "id": "37c6e8a0-1477-4cfd-9d16-92757c347e3d",
   "metadata": {
    "jp-MarkdownHeadingCollapsed": true,
    "tags": []
   },
   "source": [
    "### Case 2: Process Gaussian log files and write aggregated results into single output directory"
   ]
  },
  {
   "cell_type": "code",
   "execution_count": 4,
   "id": "1fd33394-ab6f-474c-9352-619ede17a717",
   "metadata": {},
   "outputs": [
    {
     "data": {
      "text/plain": [
       "WindowsPath('C:/tmp/gaussian/optimize/crest_ex0a_pbe1pbe_sto3g/molli_results')"
      ]
     },
     "execution_count": 4,
     "metadata": {},
     "output_type": "execute_result"
    }
   ],
   "source": [
    "log_files_dirs = [\n",
    "        Path(\"C:/tmp/gaussian/optimize/crest_ex0a_PBE1PBE_STO3G/gaussian_results\"),\n",
    "    ]\n",
    "\n",
    "aggregate_name = \"crest_ex0a_pbe1pbe_sto3g\"\n",
    "output_dir = Path(f\"C:/tmp/gaussian/optimize/{aggregate_name}/molli_results\")\n",
    "output_dir\n"
   ]
  },
  {
   "cell_type": "code",
   "execution_count": 6,
   "id": "18852830-e123-4c6d-bc80-23a0abb03e5e",
   "metadata": {},
   "outputs": [],
   "source": [
    "gaussian_log_files = ut.get_file_paths_in_many_dirs(log_files_dirs, \".log\")\n",
    "aggregate_log_file_name = f\"{aggregate_name}_log.txt\"\n",
    "aggregate_xyz_file = output_dir.joinpath(f\"{aggregate_name}_confs.xyz\")\n",
    "\n",
    "GU.process_many_log_files(\n",
    "                        input_paths=gaussian_log_files,\n",
    "                        output_dir=output_dir,\n",
    "                        aggregate_log_file_name=aggregate_log_file_name,\n",
    "#                        extract_summary_step_nr=0,\n",
    "                        do_only_summary=True,\n",
    "                        write_last_opt_steps_file_path=aggregate_xyz_file\n",
    "                    )\n"
   ]
  },
  {
   "cell_type": "code",
   "execution_count": null,
   "id": "dfada034-ae45-4075-9875-37c4a2520692",
   "metadata": {},
   "outputs": [],
   "source": []
  },
  {
   "cell_type": "markdown",
   "id": "1c912954-7080-4642-9668-c82a28940633",
   "metadata": {
    "tags": []
   },
   "source": [
    "### Case 3: Process Gaussian log files, aggregate results by DFT and write into separate directories"
   ]
  },
  {
   "cell_type": "code",
   "execution_count": 4,
   "id": "82f6ae13-fa47-4d9e-bc06-4efac60d4b20",
   "metadata": {},
   "outputs": [],
   "source": [
    "def process_log_files_by_dft(\n",
    "        dft_name: str,\n",
    "        extract_summary_step_nr: int=0,\n",
    "        ignore_shorter_runs:bool=False,\n",
    "        do_only_summary: bool=True\n",
    "    ):\n",
    "    aggregate_name = dft_name\n",
    "    output_dir = output_parent_dir.joinpath(aggregate_name)\n",
    "    experiment_dirs = [x for x in experiments_parent_dir.iterdir() if x.is_dir() and dft_name in x.stem.lower()]\n",
    "    log_files_dirs = [\n",
    "            x.joinpath(gaussian_logs_folder)\n",
    "                for x in experiment_dirs if x.joinpath(gaussian_logs_folder).exists()\n",
    "        ]\n",
    "\n",
    "    gaussian_log_files = ut.get_file_paths_in_many_dirs(log_files_dirs, \".log\")\n",
    "    aggregate_log_file_name = f\"{aggregate_name}_log.txt\"\n",
    "    aggregate_xyz_file = output_dir.joinpath(f\"{aggregate_name}_confs.xyz\")\n",
    "\n",
    "    GU.process_many_log_files(\n",
    "                            input_paths=gaussian_log_files,\n",
    "                            output_dir=output_dir,\n",
    "                            aggregate_log_file_name=aggregate_log_file_name,\n",
    "                            extract_summary_step_nr=extract_summary_step_nr,\n",
    "                            ignore_shorter_runs=ignore_shorter_runs,\n",
    "                            do_only_summary=do_only_summary,\n",
    "                            write_last_opt_steps_file_path=aggregate_xyz_file\n",
    "                        )\n"
   ]
  },
  {
   "cell_type": "code",
   "execution_count": 4,
   "id": "592593cc-4b00-4e5e-8734-3158e3abdaca",
   "metadata": {},
   "outputs": [],
   "source": [
    "dft_names = [\n",
    "            \"pbe1pbe_cc_pvtz_tzvpfit\",\n",
    "            \"bp86_sto3g\",\n",
    "            \"bp86_def2svpp_svpfit\",\n",
    "            \"pbe1pbe_sto3g\",\n",
    "            \"pbe1pbe_def2svpp_svpfit\",\n",
    "            \"b3p86_def2svpp_svpfit\",\n",
    "            \"tpssh_gd3_def2svpp_svpfit\",\n",
    "            \"wb97xd_def2svpp_svpfit\",\n",
    "        ]"
   ]
  },
  {
   "cell_type": "code",
   "execution_count": 5,
   "id": "740ad1d4-ef92-43c5-8b1f-70efd5079798",
   "metadata": {},
   "outputs": [],
   "source": [
    "dft_names = [\n",
    "            \"bp86_sto3g\",\n",
    "            \"bp86_def2svpp_svpfit\",\n",
    "            \"pbe1pbe_sto3g\",\n",
    "            \"pbe1pbe_def2svpp_svpfit\",\n",
    "        ]"
   ]
  },
  {
   "cell_type": "code",
   "execution_count": 8,
   "id": "8d0d0f15-2692-4fbb-a13b-f406904839a9",
   "metadata": {},
   "outputs": [],
   "source": [
    "experiments_parent_dir = Path(\"C:/tmp/gaussian/optimize\")\n",
    "gaussian_logs_folder = \"gaussian_results\"\n",
    "#output_parent_dir = Path(f\"C:/tmp/gaussian/aggregated_results\")\n",
    "output_parent_dir = Path(f\"C:/tmp/gaussian/aggregated_results/10_steps\")\n"
   ]
  },
  {
   "cell_type": "code",
   "execution_count": 9,
   "id": "e6967400-451b-4d7c-b4c2-b7c07e291ab4",
   "metadata": {},
   "outputs": [
    {
     "name": "stderr",
     "output_type": "stream",
     "text": [
      "100%|████████████████████████████████████████████| 4/4 [00:26<00:00,  6.53s/it]\n"
     ]
    }
   ],
   "source": [
    "for dft_name in tqdm(dft_names):\n",
    "    process_log_files_by_dft(\n",
    "                            dft_name=dft_name,\n",
    "                            extract_summary_step_nr=10,\n",
    "                            ignore_shorter_runs=True,\n",
    "                            do_only_summary=True\n",
    "                        )\n"
   ]
  },
  {
   "cell_type": "code",
   "execution_count": null,
   "id": "856532c8-ca43-4fb7-b523-4da9a266381f",
   "metadata": {},
   "outputs": [],
   "source": []
  },
  {
   "cell_type": "markdown",
   "id": "aad565c1-d792-4dfd-bc91-c27159785a59",
   "metadata": {
    "jp-MarkdownHeadingCollapsed": true,
    "tags": []
   },
   "source": [
    "### Case 4: Collect all Gaussian log files and process, write aggregated results into single output directory (for error checking)"
   ]
  },
  {
   "cell_type": "code",
   "execution_count": 10,
   "id": "19dcbb4a-ef59-4774-b6b5-37cce8a1c390",
   "metadata": {},
   "outputs": [
    {
     "data": {
      "text/plain": [
       "[WindowsPath('C:/tmp/gaussian/optimize/crest_ex0a_BP86_Def2SVPP_SVPFit/gaussian_results'),\n",
       " WindowsPath('C:/tmp/gaussian/optimize/crest_ex0a_BP86_STO3G/gaussian_results'),\n",
       " WindowsPath('C:/tmp/gaussian/optimize/crest_ex0a_PBE1PBE_Def2SVPP_SVPFit/gaussian_results'),\n",
       " WindowsPath('C:/tmp/gaussian/optimize/crest_ex0a_PBE1PBE_STO3G/gaussian_results'),\n",
       " WindowsPath('C:/tmp/gaussian/optimize/crest_ex0a_s1_BP86_Def2SVPP_SVPFit/gaussian_results'),\n",
       " WindowsPath('C:/tmp/gaussian/optimize/crest_ex0b_BP86_Def2SVPP_SVPFit/gaussian_results'),\n",
       " WindowsPath('C:/tmp/gaussian/optimize/crest_ex0b_BP86_STO3G/gaussian_results'),\n",
       " WindowsPath('C:/tmp/gaussian/optimize/crest_ex0ff_BP86_Def2SVPP_SVPFit/gaussian_results'),\n",
       " WindowsPath('C:/tmp/gaussian/optimize/crest_ex15_BP86_Def2SVPP_SVPFit/gaussian_results'),\n",
       " WindowsPath('C:/tmp/gaussian/optimize/crest_ex15_BP86_STO3G/gaussian_results'),\n",
       " WindowsPath('C:/tmp/gaussian/optimize/crest_ex16_BP86_Def2SVPP_SVPFit/gaussian_results'),\n",
       " WindowsPath('C:/tmp/gaussian/optimize/crest_ex16_crest3_BP86_Def2SVPP_SVPFit/gaussian_results'),\n",
       " WindowsPath('C:/tmp/gaussian/optimize/crest_ex16_crest3_PBE1PBE_Def2SVPP_SVPFit/gaussian_results'),\n",
       " WindowsPath('C:/tmp/gaussian/optimize/crest_ex16_crest5_BP86_Def2SVPP_SVPFit/gaussian_results'),\n",
       " WindowsPath('C:/tmp/gaussian/optimize/crest_ex16_crest5_PBE1PBE_Def2SVPP_SVPFit/gaussian_results'),\n",
       " WindowsPath('C:/tmp/gaussian/optimize/crest_ex19_BP86_Def2SVPP_SVPFit/gaussian_results'),\n",
       " WindowsPath('C:/tmp/gaussian/optimize/crest_ex19_BP86_Def2SVPP_SVPFit_5steps/gaussian_results'),\n",
       " WindowsPath('C:/tmp/gaussian/optimize/crest_ex19_BP86_STO3G/gaussian_results'),\n",
       " WindowsPath('C:/tmp/gaussian/optimize/crest_ex19_crest23_BP86_Def2SVPP_SVPFit/gaussian_results'),\n",
       " WindowsPath('C:/tmp/gaussian/optimize/crest_ex19_crest23_PBE1PBE_Def2SVPP_SVPFit/gaussian_results'),\n",
       " WindowsPath('C:/tmp/gaussian/optimize/crest_ex19_s1_PBE1PBE_Def2SVPP_SVPFit/gaussian_results'),\n",
       " WindowsPath('C:/tmp/gaussian/optimize/crest_ex21_BP86_Def2SVPP_SVPFit/gaussian_results'),\n",
       " WindowsPath('C:/tmp/gaussian/optimize/crest_ex21_BP86_STO3G/gaussian_results'),\n",
       " WindowsPath('C:/tmp/gaussian/optimize/crest_ex23_BP86_Def2SVPP_SVPFit/gaussian_results'),\n",
       " WindowsPath('C:/tmp/gaussian/optimize/crest_ex23_BP86_STO3G/gaussian_results'),\n",
       " WindowsPath('C:/tmp/gaussian/optimize/crest_ex8_gfn2_crest1_BP86_STO3G/gaussian_results'),\n",
       " WindowsPath('C:/tmp/gaussian/optimize/crest_ex8_gfn2_crest1_PBE1PBE_STO3G/gaussian_results'),\n",
       " WindowsPath('C:/tmp/gaussian/optimize/crest_s1_b3p86_def2svpp_svpfit/gaussian_results'),\n",
       " WindowsPath('C:/tmp/gaussian/optimize/crest_s1_tpssh_gd3_def2svpp_svpfit/gaussian_results'),\n",
       " WindowsPath('C:/tmp/gaussian/optimize/crest_s1_wb97xd_def2svpp_svpfit/gaussian_results'),\n",
       " WindowsPath('C:/tmp/gaussian/optimize/crest_s2_bp86_def2svpp_svpfit/gaussian_results'),\n",
       " WindowsPath('C:/tmp/gaussian/optimize/crest_s3_bp86_def2svpp_svpfit/gaussian_results'),\n",
       " WindowsPath('C:/tmp/gaussian/optimize/original_BP86_Def2SVPP_SVPFit/gaussian_results'),\n",
       " WindowsPath('C:/tmp/gaussian/optimize/original_BP86_STO3G/gaussian_results'),\n",
       " WindowsPath('C:/tmp/gaussian/optimize/original_PBE1PBE_Def2SVPP_SVPFit/gaussian_results'),\n",
       " WindowsPath('C:/tmp/gaussian/optimize/original_PBE1PBE_STO3G/gaussian_results'),\n",
       " WindowsPath('C:/tmp/gaussian/optimize/pbe1pbe_cc_pvtz_tzvpfit/gaussian_results')]"
      ]
     },
     "execution_count": 10,
     "metadata": {},
     "output_type": "execute_result"
    }
   ],
   "source": [
    "parent_dir = Path(\"C:/tmp/gaussian/optimize\")\n",
    "gaussian_logs_folder = \"gaussian_results\"\n",
    "\n",
    "aggregate_name = \"all_summaries\"\n",
    "output_dir = Path(f\"C:/tmp/gaussian/aggregated_results/{aggregate_name}\")\n",
    "\n",
    "experiment_dirs = [x for x in parent_dir.iterdir() if x.is_dir()]\n",
    "log_files_dirs = [x.joinpath(gaussian_logs_folder) for x in experiment_dirs]\n",
    "\n",
    "log_files_dirs"
   ]
  },
  {
   "cell_type": "code",
   "execution_count": 11,
   "id": "0c3a6c12-a52a-43a9-ad88-a00757e14dc6",
   "metadata": {},
   "outputs": [
    {
     "name": "stdout",
     "output_type": "stream",
     "text": [
      "output_dir C:\\tmp\\gaussian\\aggregated_results\\all_summaries\n"
     ]
    }
   ],
   "source": [
    "print(\"output_dir\", output_dir)"
   ]
  },
  {
   "cell_type": "code",
   "execution_count": 12,
   "id": "58ddd826-4aa2-4dbc-8bfa-6b70e7e78afb",
   "metadata": {},
   "outputs": [],
   "source": [
    "gaussian_log_files = ut.get_file_paths_in_many_dirs(log_files_dirs, \".log\")\n",
    "aggregate_log_file_name = f\"{aggregate_name}_log.txt\"\n",
    "aggregate_xyz_file = output_dir.joinpath(f\"{aggregate_name}_confs.xyz\")\n",
    "\n",
    "GU.process_many_log_files(\n",
    "                        input_paths=gaussian_log_files,\n",
    "                        output_dir=output_dir,\n",
    "                        aggregate_log_file_name=aggregate_log_file_name,\n",
    "#                        extract_summary_step_nr=0,\n",
    "                        do_only_summary=True,\n",
    "                        write_last_opt_steps_file_path=aggregate_xyz_file\n",
    "                    )\n"
   ]
  },
  {
   "cell_type": "code",
   "execution_count": null,
   "id": "4da87a42-3db4-4ffe-8eb8-1ad0a621a885",
   "metadata": {},
   "outputs": [],
   "source": []
  }
 ],
 "metadata": {
  "kernelspec": {
   "display_name": "Python 3 (ipykernel)",
   "language": "python",
   "name": "python3"
  },
  "language_info": {
   "codemirror_mode": {
    "name": "ipython",
    "version": 3
   },
   "file_extension": ".py",
   "mimetype": "text/x-python",
   "name": "python",
   "nbconvert_exporter": "python",
   "pygments_lexer": "ipython3",
   "version": "3.8.13"
  }
 },
 "nbformat": 4,
 "nbformat_minor": 5
}
