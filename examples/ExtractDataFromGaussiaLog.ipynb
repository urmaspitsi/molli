{
 "cells": [
  {
   "cell_type": "code",
   "execution_count": 1,
   "id": "02a3ffdf-25db-4aba-b19c-11acb5d9003b",
   "metadata": {},
   "outputs": [],
   "source": [
    "import os\n",
    "from pathlib import Path\n",
    "from typing import Any, Dict, List, Tuple, Union\n",
    "#from tqdm.notebook import tqdm\n",
    "from tqdm import tqdm\n"
   ]
  },
  {
   "cell_type": "code",
   "execution_count": 2,
   "id": "a4e8e6c5-8317-404e-bed0-962a8eea9669",
   "metadata": {},
   "outputs": [],
   "source": [
    "os.chdir(os.path.split(os.getcwd())[0]) # set working directory to Molli top level\n",
    "\n",
    "import ase_utils as au\n",
    "import gaussian_utils as GU\n",
    "import metrics as ms\n",
    "import utils as ut\n"
   ]
  },
  {
   "cell_type": "markdown",
   "id": "137c6cad-ae77-4f0f-9bc3-cad2ab9c525a",
   "metadata": {
    "jp-MarkdownHeadingCollapsed": true,
    "tags": []
   },
   "source": [
    "### Case 1: generate results in the directory of the experiment (sub folder: molli_results)"
   ]
  },
  {
   "cell_type": "code",
   "execution_count": 3,
   "id": "0e69257d-987c-4542-91e8-f1fc4a00ca61",
   "metadata": {},
   "outputs": [],
   "source": [
    "def process_inside_experiments_dirs():\n",
    "    print(\"Processing gaussian log files...\")\n",
    "    progress_bar = tqdm(experiment_dirs)\n",
    "\n",
    "    #for experiment_dir in tqdm(experimentr_dirs, desc=\"Processing gaussian log files\"):\n",
    "    for experiment_dir in progress_bar:\n",
    "        progress_bar.set_description(experiment_dir.stem)\n",
    "        input_dir = experiment_dir.joinpath(gaussian_logs_folder)\n",
    "        experiment_name = experiment_dir.stem\n",
    "        gaussian_log_files = ut.get_file_paths_in_dir(input_dir, \".log\")\n",
    "        output_dir = Path(experiment_dir.joinpath(output_folder_in_experiment_dir))\n",
    "        aggregate_log_file_name = f\"{experiment_name}_log.txt\"\n",
    "        aggregate_xyz_file = output_dir.joinpath(f\"{experiment_name}_confs.xyz\")\n",
    "\n",
    "        GU.process_many_log_files(\n",
    "                                input_paths=gaussian_log_files,\n",
    "                                output_dir=output_dir,\n",
    "                                aggregate_log_file_name=aggregate_log_file_name,\n",
    "        #                          extract_summary_step_nr=10,\n",
    "        #                          do_only_summary=True,\n",
    "                                write_last_opt_steps_file_path=aggregate_xyz_file\n",
    "                                )\n"
   ]
  },
  {
   "cell_type": "code",
   "execution_count": 4,
   "id": "4ceb9177-4b09-4eeb-91c0-23b2457a0b6e",
   "metadata": {},
   "outputs": [],
   "source": [
    "parent_dir = Path(\"C:/tmp/gaussian/optimize\")\n",
    "gaussian_logs_folder = \"gaussian_results\"\n",
    "output_folder_in_experiment_dir = \"molli_results\"\n",
    "experiment_dirs = [x for x in parent_dir.iterdir() if x.is_dir()]\n"
   ]
  },
  {
   "cell_type": "code",
   "execution_count": 5,
   "id": "6b659f95-ace2-4091-b990-407b4502724c",
   "metadata": {},
   "outputs": [
    {
     "data": {
      "text/plain": [
       "[WindowsPath('C:/tmp/gaussian/optimize/crest_ex0a_BP86_Def2SVPP_SVPFit'),\n",
       " WindowsPath('C:/tmp/gaussian/optimize/crest_ex0a_BP86_STO3G'),\n",
       " WindowsPath('C:/tmp/gaussian/optimize/crest_ex0a_PBE1PBE_Def2SVPP_SVPFit'),\n",
       " WindowsPath('C:/tmp/gaussian/optimize/crest_ex0a_PBE1PBE_STO3G'),\n",
       " WindowsPath('C:/tmp/gaussian/optimize/crest_ex0a_s1_BP86_Def2SVPP_SVPFit'),\n",
       " WindowsPath('C:/tmp/gaussian/optimize/crest_ex0b_BP86_Def2SVPP_SVPFit'),\n",
       " WindowsPath('C:/tmp/gaussian/optimize/crest_ex0b_BP86_STO3G'),\n",
       " WindowsPath('C:/tmp/gaussian/optimize/crest_ex0ff_BP86_Def2SVPP_SVPFit'),\n",
       " WindowsPath('C:/tmp/gaussian/optimize/crest_ex15_BP86_Def2SVPP_SVPFit'),\n",
       " WindowsPath('C:/tmp/gaussian/optimize/crest_ex15_BP86_STO3G'),\n",
       " WindowsPath('C:/tmp/gaussian/optimize/crest_ex16_BP86_Def2SVPP_SVPFit'),\n",
       " WindowsPath('C:/tmp/gaussian/optimize/crest_ex16_crest3_BP86_Def2SVPP_SVPFit'),\n",
       " WindowsPath('C:/tmp/gaussian/optimize/crest_ex16_crest3_PBE1PBE_Def2SVPP_SVPFit'),\n",
       " WindowsPath('C:/tmp/gaussian/optimize/crest_ex16_crest5_BP86_Def2SVPP_SVPFit'),\n",
       " WindowsPath('C:/tmp/gaussian/optimize/crest_ex16_crest5_PBE1PBE_Def2SVPP_SVPFit'),\n",
       " WindowsPath('C:/tmp/gaussian/optimize/crest_ex19_BP86_Def2SVPP_SVPFit'),\n",
       " WindowsPath('C:/tmp/gaussian/optimize/crest_ex19_BP86_Def2SVPP_SVPFit_5steps'),\n",
       " WindowsPath('C:/tmp/gaussian/optimize/crest_ex19_BP86_STO3G'),\n",
       " WindowsPath('C:/tmp/gaussian/optimize/crest_ex19_crest23_BP86_Def2SVPP_SVPFit'),\n",
       " WindowsPath('C:/tmp/gaussian/optimize/crest_ex19_crest23_PBE1PBE_Def2SVPP_SVPFit'),\n",
       " WindowsPath('C:/tmp/gaussian/optimize/crest_ex19_s1_PBE1PBE_Def2SVPP_SVPFit'),\n",
       " WindowsPath('C:/tmp/gaussian/optimize/crest_ex21_BP86_Def2SVPP_SVPFit'),\n",
       " WindowsPath('C:/tmp/gaussian/optimize/crest_ex21_BP86_STO3G'),\n",
       " WindowsPath('C:/tmp/gaussian/optimize/crest_ex23_BP86_Def2SVPP_SVPFit'),\n",
       " WindowsPath('C:/tmp/gaussian/optimize/crest_ex23_BP86_STO3G'),\n",
       " WindowsPath('C:/tmp/gaussian/optimize/crest_ex8_gfn2_crest1_BP86_STO3G'),\n",
       " WindowsPath('C:/tmp/gaussian/optimize/crest_ex8_gfn2_crest1_PBE1PBE_STO3G'),\n",
       " WindowsPath('C:/tmp/gaussian/optimize/crest_s1_b3p86_def2svpp_svpfit'),\n",
       " WindowsPath('C:/tmp/gaussian/optimize/crest_s1_tpssh_gd3_def2svpp_svpfit'),\n",
       " WindowsPath('C:/tmp/gaussian/optimize/crest_s1_wb97xd_def2svpp_svpfit'),\n",
       " WindowsPath('C:/tmp/gaussian/optimize/crest_s2_bp86_def2svpp_svpfit'),\n",
       " WindowsPath('C:/tmp/gaussian/optimize/crest_s3_bp86_def2svpp_svpfit'),\n",
       " WindowsPath('C:/tmp/gaussian/optimize/original_BP86_Def2SVPP_SVPFit'),\n",
       " WindowsPath('C:/tmp/gaussian/optimize/original_BP86_STO3G'),\n",
       " WindowsPath('C:/tmp/gaussian/optimize/original_PBE1PBE_Def2SVPP_SVPFit'),\n",
       " WindowsPath('C:/tmp/gaussian/optimize/original_PBE1PBE_STO3G'),\n",
       " WindowsPath('C:/tmp/gaussian/optimize/pbe1pbe_cc_pvtz_tzvpfit')]"
      ]
     },
     "execution_count": 5,
     "metadata": {},
     "output_type": "execute_result"
    }
   ],
   "source": [
    "experiment_dirs"
   ]
  },
  {
   "cell_type": "code",
   "execution_count": 6,
   "id": "b143a9c7-d8a6-4326-a35a-e82c52ecf67c",
   "metadata": {},
   "outputs": [
    {
     "name": "stdout",
     "output_type": "stream",
     "text": [
      "Processing gaussian log files...\n"
     ]
    },
    {
     "name": "stderr",
     "output_type": "stream",
     "text": [
      "pbe1pbe_cc_pvtz_tzvpfit: 100%|█████████████████| 37/37 [00:47<00:00,  1.28s/it]"
     ]
    },
    {
     "name": "stdout",
     "output_type": "stream",
     "text": [
      "Wall time: 47.4 s\n"
     ]
    },
    {
     "name": "stderr",
     "output_type": "stream",
     "text": [
      "\n"
     ]
    }
   ],
   "source": [
    "%time process_inside_experiments_dirs()"
   ]
  },
  {
   "cell_type": "code",
   "execution_count": null,
   "id": "03c7839c-c78c-4e3e-a420-4620448590d1",
   "metadata": {},
   "outputs": [],
   "source": []
  },
  {
   "cell_type": "markdown",
   "id": "37c6e8a0-1477-4cfd-9d16-92757c347e3d",
   "metadata": {
    "jp-MarkdownHeadingCollapsed": true,
    "tags": []
   },
   "source": [
    "### Case 2: Process Gaussian log files and write aggregated results into single output directory"
   ]
  },
  {
   "cell_type": "code",
   "execution_count": 4,
   "id": "1fd33394-ab6f-474c-9352-619ede17a717",
   "metadata": {},
   "outputs": [
    {
     "data": {
      "text/plain": [
       "WindowsPath('C:/tmp/gaussian/optimize/crest_ex0a_pbe1pbe_sto3g/molli_results')"
      ]
     },
     "execution_count": 4,
     "metadata": {},
     "output_type": "execute_result"
    }
   ],
   "source": [
    "log_files_dirs = [\n",
    "        Path(\"C:/tmp/gaussian/optimize/crest_ex0a_PBE1PBE_STO3G/gaussian_results\"),\n",
    "    ]\n",
    "\n",
    "aggregate_name = \"crest_ex0a_pbe1pbe_sto3g\"\n",
    "output_dir = Path(f\"C:/tmp/gaussian/optimize/{aggregate_name}/molli_results\")\n",
    "output_dir\n"
   ]
  },
  {
   "cell_type": "code",
   "execution_count": 6,
   "id": "18852830-e123-4c6d-bc80-23a0abb03e5e",
   "metadata": {},
   "outputs": [],
   "source": [
    "gaussian_log_files = ut.get_file_paths_in_many_dirs(log_files_dirs, \".log\")\n",
    "aggregate_log_file_name = f\"{aggregate_name}_log.txt\"\n",
    "aggregate_xyz_file = output_dir.joinpath(f\"{aggregate_name}_confs.xyz\")\n",
    "\n",
    "GU.process_many_log_files(\n",
    "                        input_paths=gaussian_log_files,\n",
    "                        output_dir=output_dir,\n",
    "                        aggregate_log_file_name=aggregate_log_file_name,\n",
    "#                        extract_summary_step_nr=0,\n",
    "                        do_only_summary=True,\n",
    "                        write_last_opt_steps_file_path=aggregate_xyz_file\n",
    "                    )\n",
    "\n"
   ]
  },
  {
   "cell_type": "code",
   "execution_count": null,
   "id": "dfada034-ae45-4075-9875-37c4a2520692",
   "metadata": {},
   "outputs": [],
   "source": []
  },
  {
   "cell_type": "markdown",
   "id": "1c912954-7080-4642-9668-c82a28940633",
   "metadata": {
    "tags": []
   },
   "source": [
    "### Case 3: Process Gaussian log files, aggregate results by DFT and write into separate directories"
   ]
  },
  {
   "cell_type": "code",
   "execution_count": 3,
   "id": "82f6ae13-fa47-4d9e-bc06-4efac60d4b20",
   "metadata": {},
   "outputs": [],
   "source": [
    "def process_log_files(\n",
    "        aggregate_name: str,\n",
    "        dft_names: List[str],\n",
    "        extract_summary_step_nr: int=0,\n",
    "        ignore_shorter_runs:bool=False,\n",
    "        do_only_summary: bool=True,\n",
    "        return_converged_only: bool=False,\n",
    "        show_errors_in_output: bool=True\n",
    "    ):\n",
    "\n",
    "    aggregate_name = aggregate_name\n",
    "    output_dir = output_parent_dir\n",
    "\n",
    "    experiment_dirs = []\n",
    "    for dft_name in dft_names:\n",
    "        experiment_dirs.extend([x for x in experiments_parent_dir.iterdir() if x.is_dir() and dft_name in x.stem.lower()])\n",
    "\n",
    "    log_files_dirs = [\n",
    "            x.joinpath(gaussian_logs_folder)\n",
    "                for x in experiment_dirs if x.joinpath(gaussian_logs_folder).exists()\n",
    "        ]\n",
    "\n",
    "    gaussian_log_files = ut.get_file_paths_in_many_dirs(log_files_dirs, \".log\")\n",
    "    aggregate_log_file_name = f\"{aggregate_name}_log.txt\"\n",
    "    aggregate_xyz_file = output_dir.joinpath(f\"{aggregate_name}_confs.xyz\")\n",
    "\n",
    "    GU.process_many_log_files(\n",
    "                            input_paths=gaussian_log_files,\n",
    "                            output_dir=output_dir,\n",
    "                            aggregate_log_file_name=aggregate_log_file_name,\n",
    "                            extract_summary_step_nr=extract_summary_step_nr,\n",
    "                            ignore_shorter_runs=ignore_shorter_runs,\n",
    "                            do_only_summary=do_only_summary,\n",
    "                            return_converged_only=return_converged_only,\n",
    "                            write_last_opt_steps_file_path=aggregate_xyz_file,\n",
    "                            show_errors_in_output=show_errors_in_output\n",
    "                        )\n",
    "\n",
    "    print(f\"aggregate_log_file_name: {output_dir.joinpath(aggregate_log_file_name)}\")\n",
    "    print(f\"aggregate_xyz_file: {aggregate_xyz_file}\")\n",
    "\n",
    "\n",
    "def process_log_files_by_dft(\n",
    "        dft_name: str,\n",
    "        extract_summary_step_nr: int=0,\n",
    "        ignore_shorter_runs:bool=False,\n",
    "        do_only_summary: bool=True,\n",
    "        return_converged_only: bool=False,\n",
    "        show_errors_in_output: bool=True\n",
    "    ):\n",
    "    aggregate_name = dft_name\n",
    "    output_dir = output_parent_dir.joinpath(aggregate_name)\n",
    "    experiment_dirs = [x for x in experiments_parent_dir.iterdir() if x.is_dir() and dft_name in x.stem.lower()]\n",
    "    log_files_dirs = [\n",
    "            x.joinpath(gaussian_logs_folder)\n",
    "                for x in experiment_dirs if x.joinpath(gaussian_logs_folder).exists()\n",
    "        ]\n",
    "\n",
    "    gaussian_log_files = ut.get_file_paths_in_many_dirs(log_files_dirs, \".log\")\n",
    "    aggregate_log_file_name = f\"{aggregate_name}_log.txt\"\n",
    "    aggregate_xyz_file = output_dir.joinpath(f\"{aggregate_name}_confs.xyz\")\n",
    "\n",
    "    GU.process_many_log_files(\n",
    "                            input_paths=gaussian_log_files,\n",
    "                            output_dir=output_dir,\n",
    "                            aggregate_log_file_name=aggregate_log_file_name,\n",
    "                            extract_summary_step_nr=extract_summary_step_nr,\n",
    "                            ignore_shorter_runs=ignore_shorter_runs,\n",
    "                            do_only_summary=do_only_summary,\n",
    "                            return_converged_only=return_converged_only,\n",
    "                            write_last_opt_steps_file_path=aggregate_xyz_file,\n",
    "                            show_errors_in_output=show_errors_in_output\n",
    "                        )\n",
    "\n",
    "    print(f\"aggregate_log_file_name: {output_dir.joinpath(aggregate_log_file_name)}\")\n",
    "    print(f\"aggregate_xyz_file: {aggregate_xyz_file}\")\n",
    "\n"
   ]
  },
  {
   "cell_type": "code",
   "execution_count": 4,
   "id": "e6967400-451b-4d7c-b4c2-b7c07e291ab4",
   "metadata": {},
   "outputs": [],
   "source": [
    "###############################################################################\n",
    "# DFT default run: all_steps, show_errors_in_output=True\n",
    "###############################################################################\n",
    "\n",
    "output_parent_dir = Path(\"C:/tmp/gaussian/aggregated_results/all_runs_by_dft\")\n",
    "extract_summary_step_nr = 0\n",
    "ignore_shorter_runs = False\n",
    "return_converged_only = False\n",
    "show_errors_in_output = True\n"
   ]
  },
  {
   "cell_type": "code",
   "execution_count": 4,
   "id": "c5b2ee08-028d-4e61-ba3c-fb44eb5510d0",
   "metadata": {},
   "outputs": [],
   "source": [
    "###############################################################################\n",
    "# DFT result at specific step nr 10: step_nr, show_errors=False\n",
    "###############################################################################\n",
    "\n",
    "output_parent_dir = Path(\"C:/tmp/gaussian/aggregated_results/1_step\")\n",
    "extract_summary_step_nr = 1\n",
    "ignore_shorter_runs = True\n",
    "return_converged_only = False\n",
    "show_errors_in_output = False"
   ]
  },
  {
   "cell_type": "code",
   "execution_count": 7,
   "id": "3fd25907-c1d2-464a-8e6e-f486cb02af75",
   "metadata": {},
   "outputs": [],
   "source": [
    "###############################################################################\n",
    "# DFT result at specific step nr 10: step_nr, show_errors=False\n",
    "###############################################################################\n",
    "\n",
    "output_parent_dir = Path(\"C:/tmp/gaussian/aggregated_results/10_steps\")\n",
    "extract_summary_step_nr = 10\n",
    "ignore_shorter_runs = True\n",
    "return_converged_only = False\n",
    "show_errors_in_output = False\n"
   ]
  },
  {
   "cell_type": "code",
   "execution_count": 9,
   "id": "2a10bd67-650b-4ffd-b7d7-514e08edb189",
   "metadata": {},
   "outputs": [],
   "source": [
    "###############################################################################\n",
    "# DFT result at specific step nr 25: step_nr, show_errors=False\n",
    "###############################################################################\n",
    "\n",
    "output_parent_dir = Path(\"C:/tmp/gaussian/aggregated_results/25_steps\")\n",
    "extract_summary_step_nr = 25\n",
    "ignore_shorter_runs = True\n",
    "return_converged_only = False\n",
    "show_errors_in_output = False\n"
   ]
  },
  {
   "cell_type": "code",
   "execution_count": 11,
   "id": "764a8644-6be6-40b1-890a-95c5b276ec8a",
   "metadata": {},
   "outputs": [],
   "source": [
    "###############################################################################\n",
    "# Converged results: return_converged_only=True, show_errors_in_output=False\n",
    "###############################################################################\n",
    "\n",
    "output_parent_dir = Path(\"C:/tmp/gaussian/aggregated_results/converged\")\n",
    "extract_summary_step_nr = 0\n",
    "ignore_shorter_runs = False\n",
    "return_converged_only = True\n",
    "show_errors_in_output = False\n"
   ]
  },
  {
   "cell_type": "code",
   "execution_count": 13,
   "id": "20daf33c-eefa-4445-9ac3-2297df7192db",
   "metadata": {},
   "outputs": [],
   "source": [
    "###############################################################################\n",
    "# Starting geometries of converged results: step_nr=1 return_converged_only=True, show_errors_in_output=False\n",
    "###############################################################################\n",
    "\n",
    "output_parent_dir = Path(\"C:/tmp/gaussian/aggregated_results/converged_start_pos\")\n",
    "extract_summary_step_nr = 1\n",
    "ignore_shorter_runs = True\n",
    "return_converged_only = True\n",
    "show_errors_in_output = False\n"
   ]
  },
  {
   "cell_type": "code",
   "execution_count": 5,
   "id": "397cd1cb-6e09-4e1a-83b7-7a9bcc5d4697",
   "metadata": {},
   "outputs": [],
   "source": [
    "dft_names = [\n",
    "            \"pbe1pbe_cc_pvtz_tzvpfit\",\n",
    "            \"bp86_sto3g\",\n",
    "            \"bp86_def2svpp_svpfit\",\n",
    "            \"pbe1pbe_sto3g\",\n",
    "            \"pbe1pbe_def2svpp_svpfit\",\n",
    "            \"b3p86_def2svpp_svpfit\",\n",
    "            \"tpssh_gd3_def2svpp_svpfit\",\n",
    "            \"wb97xd_def2svpp_svpfit\",\n",
    "        ]"
   ]
  },
  {
   "cell_type": "code",
   "execution_count": 14,
   "id": "856532c8-ca43-4fb7-b523-4da9a266381f",
   "metadata": {},
   "outputs": [
    {
     "name": "stderr",
     "output_type": "stream",
     "text": [
      " 12%|█████▌                                      | 1/8 [00:00<00:06,  1.10it/s]"
     ]
    },
    {
     "name": "stdout",
     "output_type": "stream",
     "text": [
      "aggregate_log_file_name: C:\\tmp\\gaussian\\aggregated_results\\converged_start_pos\\pbe1pbe_cc_pvtz_tzvpfit\\pbe1pbe_cc_pvtz_tzvpfit_log.txt\n",
      "aggregate_xyz_file: C:\\tmp\\gaussian\\aggregated_results\\converged_start_pos\\pbe1pbe_cc_pvtz_tzvpfit\\pbe1pbe_cc_pvtz_tzvpfit_confs.xyz\n"
     ]
    },
    {
     "name": "stderr",
     "output_type": "stream",
     "text": [
      " 25%|███████████                                 | 2/8 [00:04<00:16,  2.70s/it]"
     ]
    },
    {
     "name": "stdout",
     "output_type": "stream",
     "text": [
      "aggregate_log_file_name: C:\\tmp\\gaussian\\aggregated_results\\converged_start_pos\\bp86_sto3g\\bp86_sto3g_log.txt\n",
      "aggregate_xyz_file: C:\\tmp\\gaussian\\aggregated_results\\converged_start_pos\\bp86_sto3g\\bp86_sto3g_confs.xyz\n"
     ]
    },
    {
     "name": "stderr",
     "output_type": "stream",
     "text": [
      " 38%|████████████████▌                           | 3/8 [00:13<00:27,  5.56s/it]"
     ]
    },
    {
     "name": "stdout",
     "output_type": "stream",
     "text": [
      "aggregate_log_file_name: C:\\tmp\\gaussian\\aggregated_results\\converged_start_pos\\bp86_def2svpp_svpfit\\bp86_def2svpp_svpfit_log.txt\n",
      "aggregate_xyz_file: C:\\tmp\\gaussian\\aggregated_results\\converged_start_pos\\bp86_def2svpp_svpfit\\bp86_def2svpp_svpfit_confs.xyz\n"
     ]
    },
    {
     "name": "stderr",
     "output_type": "stream",
     "text": [
      " 50%|██████████████████████                      | 4/8 [00:14<00:14,  3.70s/it]"
     ]
    },
    {
     "name": "stdout",
     "output_type": "stream",
     "text": [
      "aggregate_log_file_name: C:\\tmp\\gaussian\\aggregated_results\\converged_start_pos\\pbe1pbe_sto3g\\pbe1pbe_sto3g_log.txt\n",
      "aggregate_xyz_file: C:\\tmp\\gaussian\\aggregated_results\\converged_start_pos\\pbe1pbe_sto3g\\pbe1pbe_sto3g_confs.xyz\n"
     ]
    },
    {
     "name": "stderr",
     "output_type": "stream",
     "text": [
      " 62%|███████████████████████████▌                | 5/8 [00:19<00:12,  4.01s/it]"
     ]
    },
    {
     "name": "stdout",
     "output_type": "stream",
     "text": [
      "aggregate_log_file_name: C:\\tmp\\gaussian\\aggregated_results\\converged_start_pos\\pbe1pbe_def2svpp_svpfit\\pbe1pbe_def2svpp_svpfit_log.txt\n",
      "aggregate_xyz_file: C:\\tmp\\gaussian\\aggregated_results\\converged_start_pos\\pbe1pbe_def2svpp_svpfit\\pbe1pbe_def2svpp_svpfit_confs.xyz\n"
     ]
    },
    {
     "name": "stderr",
     "output_type": "stream",
     "text": [
      " 75%|█████████████████████████████████           | 6/8 [00:19<00:05,  2.82s/it]"
     ]
    },
    {
     "name": "stdout",
     "output_type": "stream",
     "text": [
      "aggregate_log_file_name: C:\\tmp\\gaussian\\aggregated_results\\converged_start_pos\\b3p86_def2svpp_svpfit\\b3p86_def2svpp_svpfit_log.txt\n",
      "aggregate_xyz_file: C:\\tmp\\gaussian\\aggregated_results\\converged_start_pos\\b3p86_def2svpp_svpfit\\b3p86_def2svpp_svpfit_confs.xyz\n"
     ]
    },
    {
     "name": "stderr",
     "output_type": "stream",
     "text": [
      " 88%|██████████████████████████████████████▌     | 7/8 [00:20<00:02,  2.01s/it]"
     ]
    },
    {
     "name": "stdout",
     "output_type": "stream",
     "text": [
      "aggregate_log_file_name: C:\\tmp\\gaussian\\aggregated_results\\converged_start_pos\\tpssh_gd3_def2svpp_svpfit\\tpssh_gd3_def2svpp_svpfit_log.txt\n",
      "aggregate_xyz_file: C:\\tmp\\gaussian\\aggregated_results\\converged_start_pos\\tpssh_gd3_def2svpp_svpfit\\tpssh_gd3_def2svpp_svpfit_confs.xyz\n"
     ]
    },
    {
     "name": "stderr",
     "output_type": "stream",
     "text": [
      "100%|████████████████████████████████████████████| 8/8 [00:20<00:00,  2.56s/it]"
     ]
    },
    {
     "name": "stdout",
     "output_type": "stream",
     "text": [
      "aggregate_log_file_name: C:\\tmp\\gaussian\\aggregated_results\\converged_start_pos\\wb97xd_def2svpp_svpfit\\wb97xd_def2svpp_svpfit_log.txt\n",
      "aggregate_xyz_file: C:\\tmp\\gaussian\\aggregated_results\\converged_start_pos\\wb97xd_def2svpp_svpfit\\wb97xd_def2svpp_svpfit_confs.xyz\n"
     ]
    },
    {
     "name": "stderr",
     "output_type": "stream",
     "text": [
      "\n"
     ]
    }
   ],
   "source": [
    "experiments_parent_dir = Path(\"C:/tmp/gaussian/optimize\")\n",
    "gaussian_logs_folder = \"gaussian_results\"\n",
    "\n",
    "for dft_name in tqdm(dft_names):\n",
    "    process_log_files_by_dft(\n",
    "                            dft_name=dft_name,\n",
    "                            extract_summary_step_nr=extract_summary_step_nr,\n",
    "                            ignore_shorter_runs=ignore_shorter_runs,\n",
    "                            do_only_summary=True,\n",
    "                            return_converged_only=return_converged_only,\n",
    "                            show_errors_in_output=show_errors_in_output\n",
    "                        )\n"
   ]
  },
  {
   "cell_type": "code",
   "execution_count": 6,
   "id": "ef75b595-1263-4f2f-ab18-f6e2f7f16713",
   "metadata": {},
   "outputs": [
    {
     "name": "stdout",
     "output_type": "stream",
     "text": [
      "aggregate_log_file_name: C:\\tmp\\gaussian\\aggregated_results\\1_step\\all_aggregate_log.txt\n",
      "aggregate_xyz_file: C:\\tmp\\gaussian\\aggregated_results\\1_step\\all_aggregate_confs.xyz\n"
     ]
    }
   ],
   "source": [
    "experiments_parent_dir = Path(\"C:/tmp/gaussian/optimize\")\n",
    "gaussian_logs_folder = \"gaussian_results\"\n",
    "\n",
    "process_log_files(\n",
    "                aggregate_name=\"all_aggregate\",\n",
    "                dft_names=dft_names,\n",
    "                extract_summary_step_nr=extract_summary_step_nr,\n",
    "                ignore_shorter_runs=ignore_shorter_runs,\n",
    "                do_only_summary=True,\n",
    "                return_converged_only=return_converged_only,\n",
    "                show_errors_in_output=show_errors_in_output\n",
    "            )"
   ]
  },
  {
   "cell_type": "markdown",
   "id": "aad565c1-d792-4dfd-bc91-c27159785a59",
   "metadata": {
    "tags": []
   },
   "source": [
    "### Case 4: Collect all Gaussian log files and process, write aggregated results into single output directory (for error checking)"
   ]
  },
  {
   "cell_type": "code",
   "execution_count": 15,
   "id": "19dcbb4a-ef59-4774-b6b5-37cce8a1c390",
   "metadata": {},
   "outputs": [
    {
     "data": {
      "text/plain": [
       "[WindowsPath('C:/tmp/gaussian/optimize/crest_ex0a_BP86_Def2SVPP_SVPFit/gaussian_results'),\n",
       " WindowsPath('C:/tmp/gaussian/optimize/crest_ex0a_BP86_STO3G/gaussian_results'),\n",
       " WindowsPath('C:/tmp/gaussian/optimize/crest_ex0a_PBE1PBE_Def2SVPP_SVPFit/gaussian_results'),\n",
       " WindowsPath('C:/tmp/gaussian/optimize/crest_ex0a_PBE1PBE_STO3G/gaussian_results'),\n",
       " WindowsPath('C:/tmp/gaussian/optimize/crest_ex0a_s1_BP86_Def2SVPP_SVPFit/gaussian_results'),\n",
       " WindowsPath('C:/tmp/gaussian/optimize/crest_ex0a_s1_pbe1pbe_def2svpp_svpfit/gaussian_results'),\n",
       " WindowsPath('C:/tmp/gaussian/optimize/crest_ex0b_BP86_Def2SVPP_SVPFit/gaussian_results'),\n",
       " WindowsPath('C:/tmp/gaussian/optimize/crest_ex0b_BP86_STO3G/gaussian_results'),\n",
       " WindowsPath('C:/tmp/gaussian/optimize/crest_ex0ff_BP86_Def2SVPP_SVPFit/gaussian_results'),\n",
       " WindowsPath('C:/tmp/gaussian/optimize/crest_ex15_BP86_Def2SVPP_SVPFit/gaussian_results'),\n",
       " WindowsPath('C:/tmp/gaussian/optimize/crest_ex15_BP86_STO3G/gaussian_results'),\n",
       " WindowsPath('C:/tmp/gaussian/optimize/crest_ex16_BP86_Def2SVPP_SVPFit/gaussian_results'),\n",
       " WindowsPath('C:/tmp/gaussian/optimize/crest_ex16_crest3_BP86_Def2SVPP_SVPFit/gaussian_results'),\n",
       " WindowsPath('C:/tmp/gaussian/optimize/crest_ex16_crest3_PBE1PBE_Def2SVPP_SVPFit/gaussian_results'),\n",
       " WindowsPath('C:/tmp/gaussian/optimize/crest_ex16_crest5_BP86_Def2SVPP_SVPFit/gaussian_results'),\n",
       " WindowsPath('C:/tmp/gaussian/optimize/crest_ex16_crest5_PBE1PBE_Def2SVPP_SVPFit/gaussian_results'),\n",
       " WindowsPath('C:/tmp/gaussian/optimize/crest_ex16_pbe1pbe_def2svpp_svpfit/gaussian_results'),\n",
       " WindowsPath('C:/tmp/gaussian/optimize/crest_ex19_BP86_Def2SVPP_SVPFit/gaussian_results'),\n",
       " WindowsPath('C:/tmp/gaussian/optimize/crest_ex19_BP86_Def2SVPP_SVPFit_5steps/gaussian_results'),\n",
       " WindowsPath('C:/tmp/gaussian/optimize/crest_ex19_BP86_STO3G/gaussian_results'),\n",
       " WindowsPath('C:/tmp/gaussian/optimize/crest_ex19_crest23_BP86_Def2SVPP_SVPFit/gaussian_results'),\n",
       " WindowsPath('C:/tmp/gaussian/optimize/crest_ex19_crest23_PBE1PBE_Def2SVPP_SVPFit/gaussian_results'),\n",
       " WindowsPath('C:/tmp/gaussian/optimize/crest_ex19_s1_PBE1PBE_Def2SVPP_SVPFit/gaussian_results'),\n",
       " WindowsPath('C:/tmp/gaussian/optimize/crest_ex21_BP86_Def2SVPP_SVPFit/gaussian_results'),\n",
       " WindowsPath('C:/tmp/gaussian/optimize/crest_ex21_BP86_STO3G/gaussian_results'),\n",
       " WindowsPath('C:/tmp/gaussian/optimize/crest_ex23_BP86_Def2SVPP_SVPFit/gaussian_results'),\n",
       " WindowsPath('C:/tmp/gaussian/optimize/crest_ex23_BP86_STO3G/gaussian_results'),\n",
       " WindowsPath('C:/tmp/gaussian/optimize/crest_ex8_gfn2_crest1_BP86_STO3G/gaussian_results'),\n",
       " WindowsPath('C:/tmp/gaussian/optimize/crest_ex8_gfn2_crest1_PBE1PBE_STO3G/gaussian_results'),\n",
       " WindowsPath('C:/tmp/gaussian/optimize/crest_s1_b3p86_def2svpp_svpfit/gaussian_results'),\n",
       " WindowsPath('C:/tmp/gaussian/optimize/crest_s1_tpssh_gd3_def2svpp_svpfit/gaussian_results'),\n",
       " WindowsPath('C:/tmp/gaussian/optimize/crest_s1_wb97xd_def2svpp_svpfit/gaussian_results'),\n",
       " WindowsPath('C:/tmp/gaussian/optimize/crest_s2_bp86_def2svpp_svpfit/gaussian_results'),\n",
       " WindowsPath('C:/tmp/gaussian/optimize/crest_s2_pbe1pbe_def2svpp_svpfit/gaussian_results'),\n",
       " WindowsPath('C:/tmp/gaussian/optimize/crest_s3_bp86_def2svpp_svpfit/gaussian_results'),\n",
       " WindowsPath('C:/tmp/gaussian/optimize/crest_s3_pbe1pbe_def2svpp_svpfit/gaussian_results'),\n",
       " WindowsPath('C:/tmp/gaussian/optimize/original_BP86_Def2SVPP_SVPFit/gaussian_results'),\n",
       " WindowsPath('C:/tmp/gaussian/optimize/original_BP86_STO3G/gaussian_results'),\n",
       " WindowsPath('C:/tmp/gaussian/optimize/original_PBE1PBE_Def2SVPP_SVPFit/gaussian_results'),\n",
       " WindowsPath('C:/tmp/gaussian/optimize/original_PBE1PBE_STO3G/gaussian_results'),\n",
       " WindowsPath('C:/tmp/gaussian/optimize/pbe1pbe_cc_pvtz_tzvpfit/gaussian_results')]"
      ]
     },
     "execution_count": 15,
     "metadata": {},
     "output_type": "execute_result"
    }
   ],
   "source": [
    "parent_dir = Path(\"C:/tmp/gaussian/optimize\")\n",
    "gaussian_logs_folder = \"gaussian_results\"\n",
    "\n",
    "aggregate_name = \"all_aggregate\"\n",
    "output_dir = Path(f\"C:/tmp/gaussian/aggregated_results/{aggregate_name}\")\n",
    "\n",
    "experiment_dirs = [x for x in parent_dir.iterdir() if x.is_dir()]\n",
    "log_files_dirs = [x.joinpath(gaussian_logs_folder) for x in experiment_dirs]\n",
    "\n",
    "log_files_dirs"
   ]
  },
  {
   "cell_type": "code",
   "execution_count": 16,
   "id": "0c3a6c12-a52a-43a9-ad88-a00757e14dc6",
   "metadata": {},
   "outputs": [
    {
     "name": "stdout",
     "output_type": "stream",
     "text": [
      "output_dir C:\\tmp\\gaussian\\aggregated_results\\all_aggregate\n"
     ]
    }
   ],
   "source": [
    "print(\"output_dir\", output_dir)"
   ]
  },
  {
   "cell_type": "code",
   "execution_count": 17,
   "id": "58ddd826-4aa2-4dbc-8bfa-6b70e7e78afb",
   "metadata": {},
   "outputs": [],
   "source": [
    "gaussian_log_files = ut.get_file_paths_in_many_dirs(log_files_dirs, \".log\")\n",
    "aggregate_log_file_name = f\"{aggregate_name}_log.txt\"\n",
    "aggregate_xyz_file = output_dir.joinpath(f\"{aggregate_name}_confs.xyz\")\n",
    "\n",
    "GU.process_many_log_files(\n",
    "                        input_paths=gaussian_log_files,\n",
    "                        output_dir=output_dir,\n",
    "                        aggregate_log_file_name=aggregate_log_file_name,\n",
    "                        do_only_summary=True,\n",
    "                        write_last_opt_steps_file_path=aggregate_xyz_file\n",
    "                    )\n"
   ]
  },
  {
   "cell_type": "code",
   "execution_count": null,
   "id": "4da87a42-3db4-4ffe-8eb8-1ad0a621a885",
   "metadata": {},
   "outputs": [],
   "source": []
  }
 ],
 "metadata": {
  "kernelspec": {
   "display_name": "Python 3 (ipykernel)",
   "language": "python",
   "name": "python3"
  },
  "language_info": {
   "codemirror_mode": {
    "name": "ipython",
    "version": 3
   },
   "file_extension": ".py",
   "mimetype": "text/x-python",
   "name": "python",
   "nbconvert_exporter": "python",
   "pygments_lexer": "ipython3",
   "version": "3.8.13"
  }
 },
 "nbformat": 4,
 "nbformat_minor": 5
}
