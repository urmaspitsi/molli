{
 "cells": [
  {
   "cell_type": "code",
   "execution_count": 1,
   "id": "02a3ffdf-25db-4aba-b19c-11acb5d9003b",
   "metadata": {},
   "outputs": [],
   "source": [
    "import os\n",
    "from pathlib import Path\n",
    "from typing import Any, Dict, List, Tuple, Union\n",
    "#from tqdm.notebook import tqdm\n",
    "from tqdm import tqdm\n"
   ]
  },
  {
   "cell_type": "code",
   "execution_count": 2,
   "id": "a4e8e6c5-8317-404e-bed0-962a8eea9669",
   "metadata": {},
   "outputs": [],
   "source": [
    "os.chdir(os.path.split(os.getcwd())[0]) # set working directory to Molli top level\n",
    "\n",
    "import ase_utils as au\n",
    "import gaussian_utils as GU\n",
    "import metrics as ms\n",
    "import utils as ut\n"
   ]
  },
  {
   "cell_type": "code",
   "execution_count": 7,
   "id": "4ceb9177-4b09-4eeb-91c0-23b2457a0b6e",
   "metadata": {},
   "outputs": [],
   "source": [
    "parent_dir = Path(\"C:/tmp/gaussian/optimize\")\n",
    "gaussian_logs_folder = \"gaussian_results\"\n",
    "molli_output_folder = \"molli_results\"\n",
    "experimentr_dirs = [x for x in parent_dir.iterdir() if x.is_dir()]\n"
   ]
  },
  {
   "cell_type": "code",
   "execution_count": 8,
   "id": "0e69257d-987c-4542-91e8-f1fc4a00ca61",
   "metadata": {},
   "outputs": [],
   "source": [
    "def process_gaussian_log_files():\n",
    "    progress_bar = tqdm(experimentr_dirs, desc=\"Processing gaussian log files\")\n",
    "\n",
    "    #for experiment_dir in tqdm(experimentr_dirs, desc=\"Processing gaussian log files\"):\n",
    "    for experiment_dir in progress_bar:\n",
    "        progress_bar.set_description(experiment_dir.stem)\n",
    "        input_dir = experiment_dir.joinpath(gaussian_logs_folder)\n",
    "        experiment_name = experiment_dir.stem\n",
    "        gaussian_log_files = ut.get_file_paths_in_dir(input_dir, \".log\")\n",
    "        output_dir = Path(experiment_dir.joinpath(molli_output_folder))\n",
    "        aggregate_log_file_name = f\"{experiment_name}_log.txt\"\n",
    "        aggregate_xyz_file = output_dir.joinpath(f\"{experiment_name}_confs.xyz\")\n",
    "\n",
    "        GU.process_many_log_files(\n",
    "                                input_paths=gaussian_log_files,\n",
    "                                output_dir=output_dir,\n",
    "                                aggregate_log_file_name=aggregate_log_file_name,\n",
    "        #                          extract_summary_step_nr=10,\n",
    "        #                          do_only_summary=True,\n",
    "                                write_last_opt_steps_file_path=aggregate_xyz_file\n",
    "                                )\n",
    "\n"
   ]
  },
  {
   "cell_type": "code",
   "execution_count": 9,
   "id": "b143a9c7-d8a6-4326-a35a-e82c52ecf67c",
   "metadata": {},
   "outputs": [
    {
     "name": "stderr",
     "output_type": "stream",
     "text": [
      "pbe1pbe_cc_pvtz_tzvpfit: 100%|█████████████████| 37/37 [00:46<00:00,  1.26s/it]"
     ]
    },
    {
     "name": "stdout",
     "output_type": "stream",
     "text": [
      "Wall time: 46.6 s\n"
     ]
    },
    {
     "name": "stderr",
     "output_type": "stream",
     "text": [
      "\n"
     ]
    }
   ],
   "source": [
    "%time process_gaussian_log_files()"
   ]
  },
  {
   "cell_type": "code",
   "execution_count": null,
   "id": "04890011-0622-440a-8c92-76b62fd05b0d",
   "metadata": {},
   "outputs": [],
   "source": []
  }
 ],
 "metadata": {
  "kernelspec": {
   "display_name": "Python 3 (ipykernel)",
   "language": "python",
   "name": "python3"
  },
  "language_info": {
   "codemirror_mode": {
    "name": "ipython",
    "version": 3
   },
   "file_extension": ".py",
   "mimetype": "text/x-python",
   "name": "python",
   "nbconvert_exporter": "python",
   "pygments_lexer": "ipython3",
   "version": "3.8.13"
  }
 },
 "nbformat": 4,
 "nbformat_minor": 5
}
