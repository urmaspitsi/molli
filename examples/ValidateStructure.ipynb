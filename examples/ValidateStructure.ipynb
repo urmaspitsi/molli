{
 "cells": [
  {
   "cell_type": "code",
   "execution_count": 1,
   "id": "6949dfc1-e96f-4ab1-8df5-ced8f364af96",
   "metadata": {},
   "outputs": [],
   "source": [
    "import os\n",
    "from pathlib import Path\n",
    "from typing import Any, Dict, List, Tuple, Union\n",
    "#from tqdm.notebook import tqdm\n",
    "from tqdm import tqdm\n",
    "from ase import Atoms"
   ]
  },
  {
   "cell_type": "code",
   "execution_count": 2,
   "id": "8f1b35b3-250c-4649-9877-29110a35ff7d",
   "metadata": {},
   "outputs": [],
   "source": [
    "os.chdir(os.path.split(os.getcwd())[0]) # set working directory to Molli top level\n",
    "\n",
    "import ase_utils as au\n",
    "import gaussian_utils as GU\n",
    "import metrics as ms\n",
    "import molecule_validator as mv\n",
    "import utils as ut\n"
   ]
  },
  {
   "cell_type": "markdown",
   "id": "12cbf667-9890-4b43-a687-e339ed96d270",
   "metadata": {},
   "source": [
    "### Validate Conformers from Gaussian Optimizations"
   ]
  },
  {
   "cell_type": "code",
   "execution_count": 6,
   "id": "2d5d6fd2-249a-4bf8-82aa-00714a827f64",
   "metadata": {},
   "outputs": [
    {
     "data": {
      "text/plain": [
       "655"
      ]
     },
     "execution_count": 6,
     "metadata": {},
     "output_type": "execute_result"
    }
   ],
   "source": [
    "mols = au.create_ase_atoms_list_from_xyz_file(\n",
    "        input_path=Path(\"C:/tmp/gaussian/aggregated_results/all_summaries/all_summaries_confs.xyz\"),\n",
    "        name=\"all_summaries_confs\"\n",
    "      )\n",
    "\n",
    "len(mols)\n"
   ]
  },
  {
   "cell_type": "code",
   "execution_count": 7,
   "id": "893b74cd-074d-41c9-bb6f-508b693f2b5f",
   "metadata": {},
   "outputs": [
    {
     "name": "stderr",
     "output_type": "stream",
     "text": [
      "all_summaries_confs_655: 100%|███████████████| 655/655 [01:26<00:00,  7.60it/s]\n"
     ]
    }
   ],
   "source": [
    "validation_results = mv.validate_bonds_of_many_mols_with_target_molecule(mols_to_validate=mols)"
   ]
  },
  {
   "cell_type": "code",
   "execution_count": 8,
   "id": "767d31a2-b2ed-40c2-9d2e-4a83188370f2",
   "metadata": {},
   "outputs": [
    {
     "data": {
      "text/plain": [
       "189"
      ]
     },
     "execution_count": 8,
     "metadata": {},
     "output_type": "execute_result"
    }
   ],
   "source": [
    "len(validation_results[\"invalid_mols\"])"
   ]
  },
  {
   "cell_type": "code",
   "execution_count": 9,
   "id": "90d80f0f-c6f0-4f7d-87cb-25e9e6a4e43d",
   "metadata": {},
   "outputs": [
    {
     "data": {
      "text/plain": [
       "'C:\\\\tmp\\\\Molli_data\\\\validation_results.txt'"
      ]
     },
     "execution_count": 9,
     "metadata": {},
     "output_type": "execute_result"
    }
   ],
   "source": [
    "ut.write_text_file_json(\n",
    "        file_name=\"C:/tmp/Molli_data/validation_results.txt\",\n",
    "        data=validation_results\n",
    "    )"
   ]
  },
  {
   "cell_type": "code",
   "execution_count": null,
   "id": "5dff421a-bca0-4c96-ac5c-3320c9ecbd61",
   "metadata": {},
   "outputs": [],
   "source": []
  },
  {
   "cell_type": "markdown",
   "id": "e7120b80-d664-4098-9ade-3b03f1db78f1",
   "metadata": {},
   "source": [
    "### Validate CREST Conformers"
   ]
  },
  {
   "cell_type": "code",
   "execution_count": 3,
   "id": "6e949044-7f55-44e5-8377-c59900b1947f",
   "metadata": {},
   "outputs": [
    {
     "data": {
      "text/plain": [
       "387"
      ]
     },
     "execution_count": 3,
     "metadata": {},
     "output_type": "execute_result"
    }
   ],
   "source": [
    "crest_confs = au.create_ase_atoms_list_from_xyz_file(\n",
    "        input_path=Path(\"C:/tmp/gaussian/input/all_crest_confs.xyz\"),\n",
    "        name=\"all_crest_confs\"\n",
    "      )\n",
    "\n",
    "len(crest_confs)\n"
   ]
  },
  {
   "cell_type": "code",
   "execution_count": 4,
   "id": "fdeef052-73dc-494d-9ac1-3d74f980e87c",
   "metadata": {},
   "outputs": [
    {
     "name": "stderr",
     "output_type": "stream",
     "text": [
      "all_crest_confs_387: 100%|███████████████████| 387/387 [00:52<00:00,  7.42it/s]\n"
     ]
    }
   ],
   "source": [
    "crest_confs_validation_results = mv.validate_bonds_of_many_mols_with_target_molecule(mols_to_validate=crest_confs)\n"
   ]
  },
  {
   "cell_type": "code",
   "execution_count": 13,
   "id": "9ab1d3b5-9540-4338-9798-98aab2889eab",
   "metadata": {},
   "outputs": [
    {
     "data": {
      "text/plain": [
       "96"
      ]
     },
     "execution_count": 13,
     "metadata": {},
     "output_type": "execute_result"
    }
   ],
   "source": [
    "len(crest_confs_validation_results[\"invalid_mols\"])\n"
   ]
  },
  {
   "cell_type": "code",
   "execution_count": 5,
   "id": "e1dd19c0-797d-422d-b78d-e3320828874d",
   "metadata": {
    "tags": []
   },
   "outputs": [
    {
     "data": {
      "text/plain": [
       "'C:\\\\tmp\\\\Molli_data\\\\validation_results_crest_confs.txt'"
      ]
     },
     "execution_count": 5,
     "metadata": {},
     "output_type": "execute_result"
    }
   ],
   "source": [
    "ut.write_text_file_json(\n",
    "    file_name=\"C:/tmp/Molli_data/validation_results_crest_confs.txt\",\n",
    "    data=crest_confs_validation_results\n",
    ")"
   ]
  },
  {
   "cell_type": "code",
   "execution_count": null,
   "id": "86b62469-24a9-4755-810a-422c7bc653fe",
   "metadata": {},
   "outputs": [],
   "source": []
  }
 ],
 "metadata": {
  "kernelspec": {
   "display_name": "Python 3 (ipykernel)",
   "language": "python",
   "name": "python3"
  },
  "language_info": {
   "codemirror_mode": {
    "name": "ipython",
    "version": 3
   },
   "file_extension": ".py",
   "mimetype": "text/x-python",
   "name": "python",
   "nbconvert_exporter": "python",
   "pygments_lexer": "ipython3",
   "version": "3.8.13"
  }
 },
 "nbformat": 4,
 "nbformat_minor": 5
}
