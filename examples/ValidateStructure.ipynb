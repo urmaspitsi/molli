{
 "cells": [
  {
   "cell_type": "code",
   "execution_count": 8,
   "id": "6949dfc1-e96f-4ab1-8df5-ced8f364af96",
   "metadata": {},
   "outputs": [],
   "source": [
    "import os\n",
    "from pathlib import Path\n",
    "from typing import Any, Dict, List, Tuple, Union\n",
    "#from tqdm.notebook import tqdm\n",
    "from tqdm import tqdm\n",
    "from ase import Atoms"
   ]
  },
  {
   "cell_type": "code",
   "execution_count": 9,
   "id": "8f1b35b3-250c-4649-9877-29110a35ff7d",
   "metadata": {},
   "outputs": [],
   "source": [
    "os.chdir(os.path.split(os.getcwd())[0]) # set working directory to Molli top level\n",
    "\n",
    "import ase_utils as au\n",
    "import gaussian_utils as GU\n",
    "import metrics as ms\n",
    "import molecule_validator as mv\n",
    "import utils as ut\n"
   ]
  },
  {
   "cell_type": "markdown",
   "id": "e7120b80-d664-4098-9ade-3b03f1db78f1",
   "metadata": {},
   "source": [
    "### Validate CREST Conformers"
   ]
  },
  {
   "cell_type": "code",
   "execution_count": 10,
   "id": "6e949044-7f55-44e5-8377-c59900b1947f",
   "metadata": {},
   "outputs": [
    {
     "data": {
      "text/plain": [
       "390"
      ]
     },
     "execution_count": 10,
     "metadata": {},
     "output_type": "execute_result"
    }
   ],
   "source": [
    "crest_confs = au.create_ase_atoms_list_from_xyz_file(\n",
    "        input_path=Path(\"C:/tmp/gaussian/workflow/2_candidate_geometries/all_crest_confs.xyz\"),\n",
    "        name=\"all_crest_confs\"\n",
    "      )\n",
    "\n",
    "len(crest_confs)\n"
   ]
  },
  {
   "cell_type": "code",
   "execution_count": 11,
   "id": "1bf9166a-0856-47e6-af58-23ceb068611f",
   "metadata": {},
   "outputs": [
    {
     "name": "stderr",
     "output_type": "stream",
     "text": [
      "all_crest_confs_390: 100%|███████████████████| 390/390 [00:54<00:00,  7.19it/s]\n"
     ]
    }
   ],
   "source": [
    "crest_confs_validation_results = mv.validate_bonds_of_many_mols_with_target_molecule(mols_to_validate=crest_confs)"
   ]
  },
  {
   "cell_type": "code",
   "execution_count": 12,
   "id": "abfccab2-1afb-432d-892b-7985c4da2230",
   "metadata": {},
   "outputs": [
    {
     "data": {
      "text/plain": [
       "98"
      ]
     },
     "execution_count": 12,
     "metadata": {},
     "output_type": "execute_result"
    }
   ],
   "source": [
    "len(crest_confs_validation_results[\"invalid_mols\"])"
   ]
  },
  {
   "cell_type": "code",
   "execution_count": 13,
   "id": "6f5d9288-58b1-426f-8386-fbd080fa7a8a",
   "metadata": {},
   "outputs": [
    {
     "data": {
      "text/plain": [
       "'C:\\\\tmp\\\\gaussian\\\\workflow\\\\2_candidate_geometries\\\\2_2_structural_validation\\\\validation_results_crest_confs.txt'"
      ]
     },
     "execution_count": 13,
     "metadata": {},
     "output_type": "execute_result"
    }
   ],
   "source": [
    "ut.write_text_file_json(\n",
    "#    file_name=\"C:/tmp/Molli_data/validation_results_crest_confs.txt\",\n",
    "    file_name=\"C:/tmp/gaussian/workflow/2_candidate_geometries/2_2_structural_validation/validation_results_crest_confs.txt\",\n",
    "    data=crest_confs_validation_results\n",
    ")"
   ]
  },
  {
   "cell_type": "markdown",
   "id": "12cbf667-9890-4b43-a687-e339ed96d270",
   "metadata": {},
   "source": [
    "### Validate Conformers from Gaussian Optimizations"
   ]
  },
  {
   "cell_type": "code",
   "execution_count": 6,
   "id": "2d5d6fd2-249a-4bf8-82aa-00714a827f64",
   "metadata": {},
   "outputs": [
    {
     "data": {
      "text/plain": [
       "655"
      ]
     },
     "execution_count": 6,
     "metadata": {},
     "output_type": "execute_result"
    }
   ],
   "source": [
    "mols = au.create_ase_atoms_list_from_xyz_file(\n",
    "        input_path=Path(\"C:/tmp/gaussian/aggregated_results/all_summaries/all_summaries_confs.xyz\"),\n",
    "        name=\"all_summaries_confs\"\n",
    "      )\n",
    "\n",
    "len(mols)\n"
   ]
  },
  {
   "cell_type": "code",
   "execution_count": 7,
   "id": "893b74cd-074d-41c9-bb6f-508b693f2b5f",
   "metadata": {},
   "outputs": [
    {
     "name": "stderr",
     "output_type": "stream",
     "text": [
      "all_summaries_confs_655: 100%|███████████████| 655/655 [01:26<00:00,  7.60it/s]\n"
     ]
    }
   ],
   "source": [
    "validation_results = mv.validate_bonds_of_many_mols_with_target_molecule(mols_to_validate=mols)"
   ]
  },
  {
   "cell_type": "code",
   "execution_count": 8,
   "id": "767d31a2-b2ed-40c2-9d2e-4a83188370f2",
   "metadata": {},
   "outputs": [
    {
     "data": {
      "text/plain": [
       "189"
      ]
     },
     "execution_count": 8,
     "metadata": {},
     "output_type": "execute_result"
    }
   ],
   "source": [
    "len(validation_results[\"invalid_mols\"])"
   ]
  },
  {
   "cell_type": "code",
   "execution_count": 9,
   "id": "90d80f0f-c6f0-4f7d-87cb-25e9e6a4e43d",
   "metadata": {},
   "outputs": [
    {
     "data": {
      "text/plain": [
       "'C:\\\\tmp\\\\Molli_data\\\\validation_results.txt'"
      ]
     },
     "execution_count": 9,
     "metadata": {},
     "output_type": "execute_result"
    }
   ],
   "source": [
    "ut.write_text_file_json(\n",
    "        file_name=\"C:/tmp/Molli_data/validation_results.txt\",\n",
    "        data=validation_results\n",
    "    )"
   ]
  },
  {
   "cell_type": "markdown",
   "id": "590e532a-17cb-4a07-940c-5726095ec50c",
   "metadata": {},
   "source": [
    "### Validate particular xyz file"
   ]
  },
  {
   "cell_type": "code",
   "execution_count": 3,
   "id": "0562e42c-e114-4e0f-b688-8b8ef77215ec",
   "metadata": {},
   "outputs": [
    {
     "data": {
      "text/plain": [
       "36"
      ]
     },
     "execution_count": 3,
     "metadata": {},
     "output_type": "execute_result"
    }
   ],
   "source": [
    "mols = au.create_ase_atoms_list_from_xyz_file(\n",
    "#        input_path=Path(\"C:/tmp/gaussian/conformers/ex0ff_c6_bp86_def2svpp_svpfit_first_step.xyz\"),\n",
    "#        input_path=Path(\"C:/tmp/gaussian/conformers/ex0ff_c6_bp86_def2svpp_svpfit_last_step.xyz\"),\n",
    "        input_path=Path(\"C:/tmp/gaussian/conformers/bp86_def2svpp_svpfit_confs.xyz\"),\n",
    "        name=\"bp86_def2svpp_svpfit_confs\"\n",
    "      )\n",
    "\n",
    "len(mols)\n"
   ]
  },
  {
   "cell_type": "code",
   "execution_count": 4,
   "id": "3c50c341-3c0e-4248-8902-fc4b2aa1cfc4",
   "metadata": {},
   "outputs": [
    {
     "name": "stderr",
     "output_type": "stream",
     "text": [
      "bp86_def2svpp_svpfit_confs_36: 100%|███████████| 36/36 [00:04<00:00,  7.52it/s]\n"
     ]
    }
   ],
   "source": [
    "validation_results = mv.validate_bonds_of_many_mols_with_target_molecule(mols_to_validate=mols)"
   ]
  },
  {
   "cell_type": "code",
   "execution_count": 5,
   "id": "0444d654-e452-4550-80ff-9e0d3150da44",
   "metadata": {},
   "outputs": [
    {
     "data": {
      "text/plain": [
       "{'summary': {'num_mols_total': 36,\n",
       "  'num_mols_valid': 36,\n",
       "  'num_mols_invalid': 0},\n",
       " 'invalid_mols': []}"
      ]
     },
     "execution_count": 5,
     "metadata": {},
     "output_type": "execute_result"
    }
   ],
   "source": [
    "validation_results"
   ]
  },
  {
   "cell_type": "code",
   "execution_count": null,
   "id": "a00fefee-8388-412f-be24-541b3ac28d72",
   "metadata": {},
   "outputs": [],
   "source": []
  },
  {
   "cell_type": "code",
   "execution_count": null,
   "id": "f215989d-dc87-4b85-b90c-5084e447d6ac",
   "metadata": {},
   "outputs": [],
   "source": []
  }
 ],
 "metadata": {
  "kernelspec": {
   "display_name": "Python 3 (ipykernel)",
   "language": "python",
   "name": "python3"
  },
  "language_info": {
   "codemirror_mode": {
    "name": "ipython",
    "version": 3
   },
   "file_extension": ".py",
   "mimetype": "text/x-python",
   "name": "python",
   "nbconvert_exporter": "python",
   "pygments_lexer": "ipython3",
   "version": "3.8.13"
  }
 },
 "nbformat": 4,
 "nbformat_minor": 5
}
